{
 "cells": [
  {
   "cell_type": "markdown",
   "id": "114021c1",
   "metadata": {},
   "source": [
    "# Hidden shift algorithm\n",
    "\n",
    "\n",
    "[Bravyi and Gosset](https://arxiv.org/abs/1601.07601v3) and [Bravyi *et. al*](https://arxiv.org/abs/1808.00128v2) state that the hidden shift problem is particularly suited to benchmark their quantum circuit simulator because:\n",
    "\n",
    "1. the output is deterministic;\n",
    "and\n",
    "2. the $T$ count of the algorithm is easily controlled by choosing a suitable bent function.\n",
    "\n",
    "Following the description presented in the Appendix F of [[Bravyi and Gosset]](https://arxiv.org/abs/1601.07601v3), I will implement the hidden shift algorithm here as well.\n",
    "\n",
    "---\n",
    "\n",
    "This notebook was used to generate the following samples of the hidden-shift algorithm with the goal of benchmarking our code:\n",
    "\n",
    "* $t=14$:\n",
    "    1. $n=10$;\n",
    "    2. $n=14$;\n",
    "    3. $n=18$;\n",
    "    4. $n=22$;\n",
    "    5. $n=28$;\n",
    "    6. $n=32$;\n",
    "    \n",
    "\n",
    "* $t=28$:\n",
    "    1. $n=14$;\n",
    "    2. $n=18$;\n",
    "    3. $n=22$;\n",
    "    4. $n=28$;\n",
    "    5. $n=32$;\n",
    "    6. $n=36$."
   ]
  },
  {
   "cell_type": "code",
   "execution_count": null,
   "id": "dde86228",
   "metadata": {},
   "outputs": [],
   "source": [
    "import qiskit\n",
    "import random\n",
    "import os\n",
    "\n",
    "from qiskit.providers.aer import StatevectorSimulator, QasmSimulator\n",
    "from qiskit.tools.visualization import plot_histogram"
   ]
  },
  {
   "cell_type": "code",
   "execution_count": null,
   "id": "cf046332",
   "metadata": {},
   "outputs": [],
   "source": [
    "from HSA import HSA_gen"
   ]
  },
  {
   "cell_type": "markdown",
   "id": "dedb495e",
   "metadata": {},
   "source": [
    "#### <span style=color:green>Sample generation!</span>\n",
    "    "
   ]
  },
  {
   "cell_type": "code",
   "execution_count": null,
   "id": "813d83b2",
   "metadata": {},
   "outputs": [],
   "source": [
    "def sample_gen(nr_samples, n, n_ccz, s, s_string):\n",
    "    nr_samples = 100\n",
    "    \n",
    "    for circuit in range(nr_samples):\n",
    "\n",
    "        qc = HSA_gen (n, n_ccz, g, s)\n",
    "        qc.qasm(\n",
    "            formatted=False,\n",
    "            filename=\n",
    "            f'tcount{n_ccz*14}--n{n}/s{s_string}/_samples/HSA{circuit}.qasm')"
   ]
  },
  {
   "cell_type": "code",
   "execution_count": null,
   "id": "276ed69b",
   "metadata": {},
   "outputs": [],
   "source": [
    "def Toff_decomp(nr_samples, n, n_ccz, s_string):\n",
    "    for circuit in range(nr_samples):\n",
    "        with open(\n",
    "                f'tcount{n_ccz*14}--n{n}/s{s_string}/_samples/HSA{circuit}.qasm'\n",
    "        ) as file_object:\n",
    "            file_lines = file_object.readlines()\n",
    "\n",
    "            clines = file_lines.copy()\n",
    "            const = 0\n",
    "            for line in clines:\n",
    "                if line.startswith('ccx'):\n",
    "                    index = clines.index(line) + const\n",
    "                    a = line.partition('[')\n",
    "                    b = a[2].partition(']')\n",
    "                    ctrl_qubit1 = int(b[0])\n",
    "\n",
    "                    c = b[2].partition('[')\n",
    "                    d = c[2].partition(']')\n",
    "                    ctrl_qubit2 = int(d[0])\n",
    "\n",
    "                    e = d[2].partition('[')\n",
    "                    f = e[2].partition(']')\n",
    "                    target_qubit = int(f[0])\n",
    "\n",
    "                    file_lines.remove(line)\n",
    "                    # Toffoli decomposition:\n",
    "\n",
    "                    # (1) controlled-not gate between qubits 1 and 2:\n",
    "                    file_lines.insert(\n",
    "                        index, f'cx qr[{ctrl_qubit1}],qr[{ctrl_qubit2}];\\n')\n",
    "                    # (2) T gate on qubit 1:\n",
    "                    file_lines.insert(index, f't qr[{ctrl_qubit1}];\\n')\n",
    "                    # (3) T^dagger on qubit 2:\n",
    "                    file_lines.insert(index, f's qr[{ctrl_qubit2}];\\n')\n",
    "                    file_lines.insert(index, f's qr[{ctrl_qubit2}];\\n')\n",
    "                    file_lines.insert(index, f's qr[{ctrl_qubit2}];\\n')\n",
    "                    file_lines.insert(index, f't qr[{ctrl_qubit2}];\\n')\n",
    "                    # (4) controlled-not gate between qubits 1 and 2:\n",
    "                    file_lines.insert(\n",
    "                        index, f'cx qr[{ctrl_qubit1}],qr[{ctrl_qubit2}];\\n')\n",
    "                    # (5) H gate on qubit 3:\n",
    "                    file_lines.insert(index, f'h qr[{target_qubit}];\\n')\n",
    "                    # (6) T gates on qubits 2 and 3:\n",
    "                    file_lines.insert(index, f't qr[{ctrl_qubit2}];\\n')\n",
    "                    file_lines.insert(index, f't qr[{target_qubit}];\\n')\n",
    "                    # (7) controlled-not gate between qubits 1 and 3:\n",
    "                    file_lines.insert(\n",
    "                        index, f'cx qr[{ctrl_qubit1}],qr[{target_qubit}];\\n')\n",
    "                    # (8) T^dagger on qubit 3:\n",
    "                    file_lines.insert(index, f's qr[{target_qubit}];\\n')\n",
    "                    file_lines.insert(index, f's qr[{target_qubit}];\\n')\n",
    "                    file_lines.insert(index, f's qr[{target_qubit}];\\n')\n",
    "                    file_lines.insert(index, f't qr[{target_qubit}];\\n')\n",
    "                    # (9) controlled-not gate between qubits 2 and 3:\n",
    "                    file_lines.insert(\n",
    "                        index, f'cx qr[{ctrl_qubit2}],qr[{target_qubit}];\\n')\n",
    "                    # (10) T gate on qubit 3:\n",
    "                    file_lines.insert(index, f't qr[{target_qubit}];\\n')\n",
    "                    # (11) controlled-not gate between qubits 1 and 3:\n",
    "                    file_lines.insert(\n",
    "                        index, f'cx qr[{ctrl_qubit1}],qr[{target_qubit}];\\n')\n",
    "                    # (12) T^dagger on qubit 3:\n",
    "                    file_lines.insert(index, f's qr[{target_qubit}];\\n')\n",
    "                    file_lines.insert(index, f's qr[{target_qubit}];\\n')\n",
    "                    file_lines.insert(index, f's qr[{target_qubit}];\\n')\n",
    "                    file_lines.insert(index, f't qr[{target_qubit}];\\n')\n",
    "                    # (13) controlled-not gate between qubits 2 and 3:\n",
    "                    file_lines.insert(\n",
    "                        index, f'cx qr[{ctrl_qubit2}],qr[{target_qubit}];\\n')\n",
    "                    # (14) H gate on qubit 3:\n",
    "                    file_lines.insert(index, f'h qr[{target_qubit}];\\n')\n",
    "                    # This concludes the Toffoli decomposition\n",
    "                    const += 23\n",
    "\n",
    "        with open(\n",
    "                f'tcount{n_ccz*14}--n{n}/s{s_string}/_samples/HSA{circuit}-input.qasm',\n",
    "                'w') as file_object:\n",
    "            for line in file_lines:\n",
    "                file_object.write(line)"
   ]
  },
  {
   "cell_type": "code",
   "execution_count": null,
   "id": "99cb2803",
   "metadata": {},
   "outputs": [],
   "source": [
    "def create_path (n_ccz, n, s_string):\n",
    "    # verify whether the required folders exist\n",
    "    path = f'tcount{n_ccz*14}--n{n}'\n",
    "    if (not os.path.isdir(path)):\n",
    "        # create\n",
    "        os.mkdir(path) \n",
    "    path = path + f'/s{s_string}'\n",
    "    if (not os.path.isdir(path)):\n",
    "        # create\n",
    "        os.mkdir(path) \n",
    "    path = path + f'/_samples'\n",
    "    if (not os.path.isdir(path)):\n",
    "        # create\n",
    "        os.mkdir(path)     "
   ]
  },
  {
   "cell_type": "markdown",
   "id": "5c19bbd7",
   "metadata": {},
   "source": [
    "\n",
    "## $T$-count: $t=14$\n",
    "\n",
    "### $n=10$\n"
   ]
  },
  {
   "cell_type": "code",
   "execution_count": null,
   "id": "b92e9b38",
   "metadata": {},
   "outputs": [],
   "source": [
    "n = 10"
   ]
  },
  {
   "cell_type": "code",
   "execution_count": null,
   "id": "cf62d216",
   "metadata": {},
   "outputs": [],
   "source": [
    "# Generating a random hidden string\n",
    "\n",
    "s = []\n",
    "for i in range(n):\n",
    "    j = random.randint(0, 1)\n",
    "    s.append(j)\n",
    "\n",
    "s_string = ''.join(str(j) for j in s)\n",
    "print('The \"hidden\" string is: ', s_string)\n",
    "\n",
    "print (s, type(s))"
   ]
  },
  {
   "cell_type": "code",
   "execution_count": null,
   "id": "97ea0ad0",
   "metadata": {},
   "outputs": [],
   "source": [
    "n_ccz = 1 # implies t_count = 14\n",
    "g = 200 # number of Z and CZ gates in the {Z,CZ}-layers in-between Toffoli gates "
   ]
  },
  {
   "cell_type": "markdown",
   "id": "60cbc66c",
   "metadata": {},
   "source": [
    "#### Remarks:\n",
    "\n",
    "The generated quantum circuits will have the following properties:\n",
    "\n",
    "* $n=10$ qubits,\n",
    "* $800$ gates from the $\\{ Z, \\, CZ \\}$ set (since $g=200$),\n",
    "* $14$ $T$ gates,\n",
    "and\n",
    "* $w=10$ measurements.\n",
    "\n",
    "The output of the computation is **deterministic** and corresponds to the string $s \\in \\mathbb{F}^{10}_2$ generated at random.\n",
    "\n",
    "We want to export the randomly generated quantum circuits to a `.qasm` file and use them as input for our compilation code.\n",
    "\n",
    "Given the way the compilation code is written, we will require a new python code which writes the circuit in terms of the allowed Clifford generators $H$, $S$ and $CX$, allowed to be input to the compilation.\n",
    "\n",
    "In the form produced by the cells above, the circuits will not be valid inputs for the compilation code.\n",
    "So we will need to do that pre-processing beforehand."
   ]
  },
  {
   "cell_type": "markdown",
   "id": "223831c3",
   "metadata": {},
   "source": [
    " "
   ]
  },
  {
   "cell_type": "markdown",
   "id": "f7b0b3b4",
   "metadata": {},
   "source": [
    "To simplify this task, we made sure that the oracles are immediately written in terms of the desired Clifford generators ($Z=S\\cdot S$ and $CZ= (I\\otimes H) CX_{12} (I \\otimes H)$), such that we will **only need to worry with the decomposition of the Toffoli gate**. This makes the processing of the `.qasm` file simpler as we need only work through that decomposotion."
   ]
  },
  {
   "cell_type": "code",
   "execution_count": null,
   "id": "01827047",
   "metadata": {},
   "outputs": [],
   "source": [
    "nr_samples = 100\n",
    "\n",
    "create_path (n_ccz, n, s_string)\n",
    "\n",
    "sample_gen(nr_samples, n, n_ccz, s, s_string)\n",
    "Toff_decomp(nr_samples, n, n_ccz, s_string)"
   ]
  },
  {
   "cell_type": "markdown",
   "id": "ff9d8ecd",
   "metadata": {},
   "source": [
    " "
   ]
  },
  {
   "cell_type": "markdown",
   "id": "435f90e8",
   "metadata": {},
   "source": [
    " "
   ]
  },
  {
   "cell_type": "markdown",
   "id": "47dbaa82",
   "metadata": {},
   "source": [
    "### $n=14$\n"
   ]
  },
  {
   "cell_type": "code",
   "execution_count": null,
   "id": "022afc46",
   "metadata": {},
   "outputs": [],
   "source": [
    "n = 14\n",
    "\n",
    "# Generating a random hidden string\n",
    "\n",
    "s = []\n",
    "for i in range(n):\n",
    "    j = random.randint(0, 1)\n",
    "    s.append(j)\n",
    "\n",
    "s_string = ''.join(str(j) for j in s)\n",
    "print('The \"hidden\" string is: ', s_string)\n",
    "\n",
    "n_ccz = 1 # implies t_count = 14\n",
    "g = 200 # number of Z and CZ gates in the {Z,CZ}-layers in-between Toffoli gates \n",
    "\n",
    "nr_samples = 10"
   ]
  },
  {
   "cell_type": "code",
   "execution_count": null,
   "id": "c9ee3a8e",
   "metadata": {},
   "outputs": [],
   "source": [
    "create_path (n_ccz, n, s_string)\n",
    "\n",
    "sample_gen(nr_samples, n, n_ccz, s_string)\n",
    "Toff_decomp(nr_samples, n, n_ccz, s_string)"
   ]
  },
  {
   "cell_type": "markdown",
   "id": "34e354e8",
   "metadata": {},
   "source": [
    "### $n=18$\n"
   ]
  },
  {
   "cell_type": "code",
   "execution_count": null,
   "id": "ebb45199",
   "metadata": {},
   "outputs": [],
   "source": [
    "n = 18\n",
    "\n",
    "# Generating a random hidden string\n",
    "\n",
    "s = []\n",
    "for i in range(n):\n",
    "    j = random.randint(0, 1)\n",
    "    s.append(j)\n",
    "\n",
    "s_string = ''.join(str(j) for j in s)\n",
    "print('The \"hidden\" string is: ', s_string)\n",
    "\n",
    "n_ccz = 1 # implies t_count = 14\n",
    "g = 200 # number of Z and CZ gates in the {Z,CZ}-layers in-between Toffoli gates \n",
    "\n",
    "nr_samples = 10"
   ]
  },
  {
   "cell_type": "code",
   "execution_count": null,
   "id": "4ce5214d",
   "metadata": {},
   "outputs": [],
   "source": [
    "create_path (n_ccz, n, s_string)\n",
    "\n",
    "sample_gen(nr_samples, n, n_ccz, s_string)\n",
    "Toff_decomp(nr_samples, n, n_ccz, s_string)"
   ]
  },
  {
   "cell_type": "markdown",
   "id": "3fe47db7",
   "metadata": {},
   "source": [
    "### $n=22$\n"
   ]
  },
  {
   "cell_type": "code",
   "execution_count": null,
   "id": "080bdad4",
   "metadata": {},
   "outputs": [],
   "source": [
    "n = 22\n",
    "\n",
    "# Generating a random hidden string\n",
    "\n",
    "s = []\n",
    "for i in range(n):\n",
    "    j = random.randint(0, 1)\n",
    "    s.append(j)\n",
    "\n",
    "s_string = ''.join(str(j) for j in s)\n",
    "print('The \"hidden\" string is: ', s_string)\n",
    "\n",
    "n_ccz = 1 # implies t_count = 14\n",
    "g = 200 # number of Z and CZ gates in the {Z,CZ}-layers in-between Toffoli gates \n",
    "\n",
    "nr_samples = 10"
   ]
  },
  {
   "cell_type": "code",
   "execution_count": null,
   "id": "4fdaaef4",
   "metadata": {},
   "outputs": [],
   "source": [
    "create_path (n_ccz, n, s_string)\n",
    "\n",
    "sample_gen(nr_samples, n, n_ccz, s_string)\n",
    "Toff_decomp(nr_samples, n, n_ccz, s_string)"
   ]
  },
  {
   "cell_type": "markdown",
   "id": "ca0381a7",
   "metadata": {},
   "source": [
    "### $n=28$\n"
   ]
  },
  {
   "cell_type": "code",
   "execution_count": null,
   "id": "60b5d240",
   "metadata": {},
   "outputs": [],
   "source": [
    "n = 28\n",
    "\n",
    "# Generating a random hidden string\n",
    "\n",
    "s = []\n",
    "for i in range(n):\n",
    "    j = random.randint(0, 1)\n",
    "    s.append(j)\n",
    "\n",
    "s_string = ''.join(str(j) for j in s)\n",
    "print('The \"hidden\" string is: ', s_string)\n",
    "\n",
    "n_ccz = 1 # implies t_count = 14\n",
    "g = 200 # number of Z and CZ gates in the {Z,CZ}-layers in-between Toffoli gates \n",
    "\n",
    "nr_samples = 2"
   ]
  },
  {
   "cell_type": "code",
   "execution_count": null,
   "id": "58f1d5fc",
   "metadata": {},
   "outputs": [],
   "source": [
    "create_path (n_ccz, n, s_string)\n",
    "\n",
    "sample_gen(nr_samples, n, n_ccz, s_string)\n",
    "Toff_decomp(nr_samples, n, n_ccz, s_string)"
   ]
  },
  {
   "cell_type": "markdown",
   "id": "12a90637",
   "metadata": {},
   "source": [
    "### $n=32$\n"
   ]
  },
  {
   "cell_type": "code",
   "execution_count": null,
   "id": "721e751f",
   "metadata": {},
   "outputs": [],
   "source": [
    "n = 32\n",
    "\n",
    "# Generating a random hidden string\n",
    "\n",
    "s = []\n",
    "for i in range(n):\n",
    "    j = random.randint(0, 1)\n",
    "    s.append(j)\n",
    "\n",
    "s_string = ''.join(str(j) for j in s)\n",
    "print('The \"hidden\" string is: ', s_string)\n",
    "\n",
    "n_ccz = 1 # implies t_count = 14\n",
    "g = 200 # number of Z and CZ gates in the {Z,CZ}-layers in-between Toffoli gates \n",
    "\n",
    "nr_samples = 2"
   ]
  },
  {
   "cell_type": "code",
   "execution_count": null,
   "id": "18c0a721",
   "metadata": {},
   "outputs": [],
   "source": [
    "create_path (n_ccz, n, s_string)\n",
    "\n",
    "sample_gen(nr_samples, n, n_ccz, s_string)\n",
    "Toff_decomp(nr_samples, n, n_ccz, s_string)"
   ]
  },
  {
   "cell_type": "markdown",
   "id": "e962f4b5",
   "metadata": {},
   "source": [
    "## $t=28$\n",
    "\n",
    "### $n=14$"
   ]
  },
  {
   "cell_type": "code",
   "execution_count": null,
   "id": "282a2cf5",
   "metadata": {},
   "outputs": [],
   "source": [
    "n = 14\n",
    "\n",
    "# Generating a random hidden string\n",
    "\n",
    "s = []\n",
    "for i in range(n):\n",
    "    j = random.randint(0, 1)\n",
    "    s.append(j)\n",
    "\n",
    "s_string = ''.join(str(j) for j in s)\n",
    "print('The \"hidden\" string is: ', s_string)\n",
    "\n",
    "n_ccz = 2 # implies t_count = 28\n",
    "g = 200 # number of Z and CZ gates in the {Z,CZ}-layers in-between Toffoli gates \n",
    "\n",
    "nr_samples = 2"
   ]
  },
  {
   "cell_type": "code",
   "execution_count": null,
   "id": "abbd40ef",
   "metadata": {},
   "outputs": [],
   "source": [
    "create_path (n_ccz, n, s_string)\n",
    "\n",
    "sample_gen(nr_samples, n, n_ccz, s_string)\n",
    "Toff_decomp(nr_samples, n, n_ccz, s_string)"
   ]
  },
  {
   "cell_type": "markdown",
   "id": "3f34761a",
   "metadata": {},
   "source": [
    "### $n= 18$"
   ]
  },
  {
   "cell_type": "code",
   "execution_count": null,
   "id": "32f66da1",
   "metadata": {},
   "outputs": [],
   "source": [
    "n = 18\n",
    "\n",
    "# Generating a random hidden string\n",
    "\n",
    "s = []\n",
    "for i in range(n):\n",
    "    j = random.randint(0, 1)\n",
    "    s.append(j)\n",
    "\n",
    "s_string = ''.join(str(j) for j in s)\n",
    "print('The \"hidden\" string is: ', s_string)\n",
    "\n",
    "n_ccz = 2 # implies t_count = 28\n",
    "g = 200 # number of Z and CZ gates in the {Z,CZ}-layers in-between Toffoli gates \n",
    "\n",
    "nr_samples = 2"
   ]
  },
  {
   "cell_type": "code",
   "execution_count": null,
   "id": "55dc59cb",
   "metadata": {},
   "outputs": [],
   "source": [
    "create_path (n_ccz, n, s_string)\n",
    "\n",
    "sample_gen(nr_samples, n, n_ccz, s_string)\n",
    "Toff_decomp(nr_samples, n, n_ccz, s_string)"
   ]
  },
  {
   "cell_type": "markdown",
   "id": "f3006e67",
   "metadata": {},
   "source": [
    "### $n= 22$"
   ]
  },
  {
   "cell_type": "code",
   "execution_count": null,
   "id": "ec825618",
   "metadata": {},
   "outputs": [],
   "source": [
    "n = 22\n",
    "\n",
    "# Generating a random hidden string\n",
    "\n",
    "s = []\n",
    "for i in range(n):\n",
    "    j = random.randint(0, 1)\n",
    "    s.append(j)\n",
    "\n",
    "s_string = ''.join(str(j) for j in s)\n",
    "print('The \"hidden\" string is: ', s_string)\n",
    "\n",
    "n_ccz = 2 # implies t_count = 28\n",
    "g = 200 # number of Z and CZ gates in the {Z,CZ}-layers in-between Toffoli gates \n",
    "\n",
    "nr_samples = 2"
   ]
  },
  {
   "cell_type": "code",
   "execution_count": null,
   "id": "0f626298",
   "metadata": {},
   "outputs": [],
   "source": [
    "create_path (n_ccz, n, s_string)\n",
    "\n",
    "sample_gen(nr_samples, n, n_ccz, s_string)\n",
    "Toff_decomp(nr_samples, n, n_ccz, s_string)"
   ]
  },
  {
   "cell_type": "markdown",
   "id": "425a223b",
   "metadata": {},
   "source": [
    "### $n= 28$"
   ]
  },
  {
   "cell_type": "code",
   "execution_count": null,
   "id": "9b4f682a",
   "metadata": {},
   "outputs": [],
   "source": [
    "n = 28\n",
    "\n",
    "# Generating a random hidden string\n",
    "\n",
    "s = []\n",
    "for i in range(n):\n",
    "    j = random.randint(0, 1)\n",
    "    s.append(j)\n",
    "\n",
    "s_string = ''.join(str(j) for j in s)\n",
    "print('The \"hidden\" string is: ', s_string)\n",
    "\n",
    "n_ccz = 2 # implies t_count = 28\n",
    "g = 200 # number of Z and CZ gates in the {Z,CZ}-layers in-between Toffoli gates \n",
    "\n",
    "nr_samples = 2"
   ]
  },
  {
   "cell_type": "code",
   "execution_count": null,
   "id": "866c02d2",
   "metadata": {},
   "outputs": [],
   "source": [
    "create_path (n_ccz, n, s_string)\n",
    "\n",
    "sample_gen(nr_samples, n, n_ccz, s_string)\n",
    "Toff_decomp(nr_samples, n, n_ccz, s_string)"
   ]
  },
  {
   "cell_type": "markdown",
   "id": "d617f4ab",
   "metadata": {},
   "source": [
    "### $n= 32$"
   ]
  },
  {
   "cell_type": "code",
   "execution_count": null,
   "id": "ec9ef806",
   "metadata": {},
   "outputs": [],
   "source": [
    "n = 32\n",
    "\n",
    "# Generating a random hidden string\n",
    "\n",
    "s = []\n",
    "for i in range(n):\n",
    "    j = random.randint(0, 1)\n",
    "    s.append(j)\n",
    "\n",
    "s_string = ''.join(str(j) for j in s)\n",
    "print('The \"hidden\" string is: ', s_string)\n",
    "\n",
    "n_ccz = 2 # implies t_count = 28\n",
    "g = 200 # number of Z and CZ gates in the {Z,CZ}-layers in-between Toffoli gates \n",
    "\n",
    "nr_samples = 2"
   ]
  },
  {
   "cell_type": "code",
   "execution_count": null,
   "id": "26c58d34",
   "metadata": {},
   "outputs": [],
   "source": [
    "create_path (n_ccz, n, s_string)\n",
    "\n",
    "sample_gen(nr_samples, n, n_ccz, s_string)\n",
    "Toff_decomp(nr_samples, n, n_ccz, s_string)"
   ]
  },
  {
   "cell_type": "markdown",
   "id": "cc42e5c3",
   "metadata": {},
   "source": [
    "### $n= 36$"
   ]
  },
  {
   "cell_type": "code",
   "execution_count": null,
   "id": "098e7e5a",
   "metadata": {},
   "outputs": [],
   "source": [
    "n = 36\n",
    "\n",
    "# Generating a random hidden string\n",
    "\n",
    "s = []\n",
    "for i in range(n):\n",
    "    j = random.randint(0, 1)\n",
    "    s.append(j)\n",
    "\n",
    "s_string = ''.join(str(j) for j in s)\n",
    "print('The \"hidden\" string is: ', s_string)\n",
    "\n",
    "n_ccz = 2 # implies t_count = 28\n",
    "g = 200 # number of Z and CZ gates in the {Z,CZ}-layers in-between Toffoli gates \n",
    "\n",
    "nr_samples = 1"
   ]
  },
  {
   "cell_type": "code",
   "execution_count": null,
   "id": "de4f66d9",
   "metadata": {},
   "outputs": [],
   "source": [
    "create_path (n_ccz, n, s_string)\n",
    "\n",
    "sample_gen(nr_samples, n, n_ccz, s_string)\n",
    "Toff_decomp(nr_samples, n, n_ccz, s_string)"
   ]
  },
  {
   "cell_type": "markdown",
   "id": "f44f9580",
   "metadata": {},
   "source": [
    " "
   ]
  },
  {
   "cell_type": "markdown",
   "id": "4594ffa3",
   "metadata": {},
   "source": [
    "---"
   ]
  },
  {
   "cell_type": "markdown",
   "id": "3dee2bef",
   "metadata": {},
   "source": [
    "## Importing some circuits to evaluate the depths:\n"
   ]
  },
  {
   "cell_type": "code",
   "execution_count": null,
   "id": "f09de598",
   "metadata": {},
   "outputs": [],
   "source": [
    "#without Toffoli decomp\n",
    "samples = [f'tcount28--n36/s000101000100100000010101110010110101/_samples/HSA{i}.qasm' for i in range(1)]\n",
    "\n",
    "print ('\\nWithout Toffoli decomp\\n')\n",
    "for i in range(1):\n",
    "    imported_qc = qiskit.QuantumCircuit.from_qasm_file(samples[i])\n",
    "    print(imported_qc.depth())\n",
    "    \n",
    "#with Toffoli decomp\n",
    "samples = [f'tcount28--n36/s000101000100100000010101110010110101/_samples/HSA{i}-input.qasm' for i in range(1)]\n",
    "print ('\\nWith Toffoli decomp\\n')\n",
    "for i in range(1):\n",
    "    imported_qc = qiskit.QuantumCircuit.from_qasm_file(samples[i])\n",
    "    print(imported_qc.depth())\n",
    "\n"
   ]
  },
  {
   "cell_type": "markdown",
   "id": "7886c1a8",
   "metadata": {},
   "source": [
    " "
   ]
  },
  {
   "cell_type": "markdown",
   "id": "449de8b5",
   "metadata": {},
   "source": [
    "---"
   ]
  },
  {
   "cell_type": "code",
   "execution_count": null,
   "id": "26646a0d",
   "metadata": {},
   "outputs": [],
   "source": []
  }
 ],
 "metadata": {
  "kernelspec": {
   "display_name": "Python 3 (ipykernel)",
   "language": "python",
   "name": "python3"
  },
  "language_info": {
   "codemirror_mode": {
    "name": "ipython",
    "version": 3
   },
   "file_extension": ".py",
   "mimetype": "text/x-python",
   "name": "python",
   "nbconvert_exporter": "python",
   "pygments_lexer": "ipython3",
   "version": "3.9.5"
  },
  "vscode": {
   "interpreter": {
    "hash": "a2ad0a4eca7f845131466efb4c005711a36ab2f67b03ae1052a913dc9560ed71"
   }
  }
 },
 "nbformat": 4,
 "nbformat_minor": 5
}
