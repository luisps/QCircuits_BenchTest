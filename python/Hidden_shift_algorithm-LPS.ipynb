{
 "cells": [
  {
   "cell_type": "markdown",
   "id": "114021c1",
   "metadata": {},
   "source": [
    "# Hidden shift algorithm\n",
    "\n",
    "## From Filipa Peres (INL)\n",
    "\n",
    "\n",
    "[Bravyi and Gosset](https://arxiv.org/abs/1601.07601v3) and [Bravyi *et. al*](https://arxiv.org/abs/1808.00128v2) state that the hidden shift problem is particularly suited to benchmark their quantum circuit simulator because:\n",
    "\n",
    "1. the output is deterministic;\n",
    "and\n",
    "2. the $T$ count of the algorithm is easily controlled by choosing a suitable bent function.\n",
    "\n",
    "Following the description presented in the Appendix F of [[Bravyi and Gosset]](https://arxiv.org/abs/1601.07601v3), I will implement the hidden shift algorithm here as well.\n",
    "\n",
    "---\n",
    "\n"
   ]
  },
  {
   "cell_type": "code",
   "execution_count": 2,
   "id": "dde86228",
   "metadata": {},
   "outputs": [],
   "source": [
    "import qiskit\n",
    "import random\n",
    "import os\n",
    "\n",
    "from qiskit import Aer\n",
    "from qiskit.tools.visualization import plot_histogram"
   ]
  },
  {
   "cell_type": "code",
   "execution_count": 3,
   "id": "cf046332",
   "metadata": {},
   "outputs": [],
   "source": [
    "from HSA import HSA_gen"
   ]
  },
  {
   "cell_type": "code",
   "execution_count": 44,
   "id": "669dfa5a",
   "metadata": {},
   "outputs": [],
   "source": [
    "# number of qubits\n",
    "n = 9\n",
    "\n",
    "n_ccz = 1 # implies t_count = 14 * n_ccz\n",
    "g = 2 # number of Z and CZ gates in the {Z,CZ}-layers in-between Toffoli gates "
   ]
  },
  {
   "cell_type": "code",
   "execution_count": 45,
   "id": "2beb93ba",
   "metadata": {},
   "outputs": [
    {
     "name": "stdout",
     "output_type": "stream",
     "text": [
      "The \"hidden\" string is:  011010111\n"
     ]
    }
   ],
   "source": [
    "# Generating a random hidden string\n",
    "\n",
    "s = []\n",
    "for i in range(n):\n",
    "    j = random.randint(0, 1)\n",
    "    s.append(j)\n",
    "\n",
    "s_string = ''.join(str(j) for j in s)\n",
    "print('The \"hidden\" string is: ', s_string)\n"
   ]
  },
  {
   "cell_type": "markdown",
   "id": "dedb495e",
   "metadata": {},
   "source": [
    "#### <span style=color:green>Circuit generation!</span>\n",
    "    "
   ]
  },
  {
   "cell_type": "code",
   "execution_count": 46,
   "id": "813d83b2",
   "metadata": {},
   "outputs": [
    {
     "ename": "CircuitError",
     "evalue": "'Number of items in qubits parameter (5) does not match number of qubits in the circuit (4).'",
     "output_type": "error",
     "traceback": [
      "\u001b[0;31m---------------------------------------------------------------------------\u001b[0m",
      "\u001b[0;31mCircuitError\u001b[0m                              Traceback (most recent call last)",
      "Input \u001b[0;32mIn [46]\u001b[0m, in \u001b[0;36m<cell line: 1>\u001b[0;34m()\u001b[0m\n\u001b[0;32m----> 1\u001b[0m qc \u001b[38;5;241m=\u001b[39m \u001b[43mHSA_gen\u001b[49m\u001b[43m \u001b[49m\u001b[43m(\u001b[49m\u001b[43mn\u001b[49m\u001b[43m,\u001b[49m\u001b[43m \u001b[49m\u001b[43mn_ccz\u001b[49m\u001b[43m,\u001b[49m\u001b[43m \u001b[49m\u001b[43mg\u001b[49m\u001b[43m,\u001b[49m\u001b[43m \u001b[49m\u001b[43ms\u001b[49m\u001b[43m,\u001b[49m\u001b[43m \u001b[49m\u001b[43mToffoli\u001b[49m\u001b[38;5;241;43m=\u001b[39;49m\u001b[43m \u001b[49m\u001b[38;5;28;43;01mFalse\u001b[39;49;00m\u001b[43m,\u001b[49m\u001b[43m \u001b[49m\u001b[43mmeasure\u001b[49m\u001b[38;5;241;43m=\u001b[39;49m\u001b[38;5;28;43;01mFalse\u001b[39;49;00m\u001b[43m,\u001b[49m\u001b[43m \u001b[49m\u001b[43mremove_pairs_H\u001b[49m\u001b[38;5;241;43m=\u001b[39;49m\u001b[38;5;28;43;01mTrue\u001b[39;49;00m\u001b[43m)\u001b[49m\n",
      "File \u001b[0;32m~/Feynman_MCSimulator/python/HSA.py:186\u001b[0m, in \u001b[0;36mHSA_gen\u001b[0;34m(n, n_ccz, g, s, Toffoli, measure, remove_pairs_H)\u001b[0m\n\u001b[1;32m    184\u001b[0m og \u001b[38;5;241m=\u001b[39m oracle_g(n, n_ccz, g, Toffoli)\n\u001b[1;32m    185\u001b[0m of \u001b[38;5;241m=\u001b[39m oracle_f(n, og)\n\u001b[0;32m--> 186\u001b[0m ofp \u001b[38;5;241m=\u001b[39m \u001b[43moracle_fp\u001b[49m\u001b[43m(\u001b[49m\u001b[43mn\u001b[49m\u001b[43m,\u001b[49m\u001b[43m \u001b[49m\u001b[43mog\u001b[49m\u001b[43m,\u001b[49m\u001b[43m \u001b[49m\u001b[43ms\u001b[49m\u001b[43m)\u001b[49m\n\u001b[1;32m    188\u001b[0m qr \u001b[38;5;241m=\u001b[39m qiskit\u001b[38;5;241m.\u001b[39mQuantumRegister(n, \u001b[38;5;124m'\u001b[39m\u001b[38;5;124mqr\u001b[39m\u001b[38;5;124m'\u001b[39m)\n\u001b[1;32m    189\u001b[0m \u001b[38;5;28;01mif\u001b[39;00m measure:\n",
      "File \u001b[0;32m~/Feynman_MCSimulator/python/HSA.py:132\u001b[0m, in \u001b[0;36moracle_fp\u001b[0;34m(n, og, s)\u001b[0m\n\u001b[1;32m    129\u001b[0m         ofp\u001b[38;5;241m.\u001b[39ms(qr_fp[i])\n\u001b[1;32m    130\u001b[0m         ofp\u001b[38;5;241m.\u001b[39ms(qr_fp[i])\n\u001b[0;32m--> 132\u001b[0m ofp \u001b[38;5;241m=\u001b[39m \u001b[43mofp\u001b[49m\u001b[38;5;241;43m.\u001b[39;49m\u001b[43mcompose\u001b[49m\u001b[43m(\u001b[49m\u001b[43mog\u001b[49m\u001b[43m,\u001b[49m\u001b[43m \u001b[49m\u001b[43mqubits\u001b[49m\u001b[38;5;241;43m=\u001b[39;49m\u001b[43mqr_fp\u001b[49m\u001b[43m[\u001b[49m\u001b[38;5;28;43mint\u001b[39;49m\u001b[43m(\u001b[49m\u001b[43mn\u001b[49m\u001b[43m \u001b[49m\u001b[38;5;241;43m/\u001b[39;49m\u001b[43m \u001b[49m\u001b[38;5;241;43m2\u001b[39;49m\u001b[43m)\u001b[49m\u001b[43m:\u001b[49m\u001b[43mn\u001b[49m\u001b[43m]\u001b[49m\u001b[43m)\u001b[49m  \u001b[38;5;66;03m# compose\u001b[39;00m\n\u001b[1;32m    134\u001b[0m \u001b[38;5;28;01mfor\u001b[39;00m i \u001b[38;5;129;01min\u001b[39;00m \u001b[38;5;28mrange\u001b[39m(\u001b[38;5;28mint\u001b[39m(n \u001b[38;5;241m/\u001b[39m \u001b[38;5;241m2\u001b[39m)):\n\u001b[1;32m    135\u001b[0m     ofp\u001b[38;5;241m.\u001b[39mh(qr_fp[i \u001b[38;5;241m+\u001b[39m \u001b[38;5;28mint\u001b[39m(n \u001b[38;5;241m/\u001b[39m \u001b[38;5;241m2\u001b[39m)])\n",
      "File \u001b[0;32m~/Library/Python/3.9/lib/python/site-packages/qiskit/circuit/quantumcircuit.py:942\u001b[0m, in \u001b[0;36mQuantumCircuit.compose\u001b[0;34m(self, other, qubits, clbits, front, inplace, wrap)\u001b[0m\n\u001b[1;32m    940\u001b[0m     mapped_qubits \u001b[38;5;241m=\u001b[39m dest\u001b[38;5;241m.\u001b[39mqbit_argument_conversion(qubits)\n\u001b[1;32m    941\u001b[0m     \u001b[38;5;28;01mif\u001b[39;00m \u001b[38;5;28mlen\u001b[39m(mapped_qubits) \u001b[38;5;241m!=\u001b[39m \u001b[38;5;28mlen\u001b[39m(other\u001b[38;5;241m.\u001b[39mqubits):\n\u001b[0;32m--> 942\u001b[0m         \u001b[38;5;28;01mraise\u001b[39;00m CircuitError(\n\u001b[1;32m    943\u001b[0m             \u001b[38;5;124mf\u001b[39m\u001b[38;5;124m\"\u001b[39m\u001b[38;5;124mNumber of items in qubits parameter (\u001b[39m\u001b[38;5;132;01m{\u001b[39;00m\u001b[38;5;28mlen\u001b[39m(mapped_qubits)\u001b[38;5;132;01m}\u001b[39;00m\u001b[38;5;124m) does not\u001b[39m\u001b[38;5;124m\"\u001b[39m\n\u001b[1;32m    944\u001b[0m             \u001b[38;5;124mf\u001b[39m\u001b[38;5;124m\"\u001b[39m\u001b[38;5;124m match number of qubits in the circuit (\u001b[39m\u001b[38;5;132;01m{\u001b[39;00m\u001b[38;5;28mlen\u001b[39m(other\u001b[38;5;241m.\u001b[39mqubits)\u001b[38;5;132;01m}\u001b[39;00m\u001b[38;5;124m).\u001b[39m\u001b[38;5;124m\"\u001b[39m\n\u001b[1;32m    945\u001b[0m         )\n\u001b[1;32m    946\u001b[0m     edge_map\u001b[38;5;241m.\u001b[39mupdate(\u001b[38;5;28mzip\u001b[39m(other\u001b[38;5;241m.\u001b[39mqubits, mapped_qubits))\n\u001b[1;32m    948\u001b[0m \u001b[38;5;28;01mif\u001b[39;00m clbits \u001b[38;5;129;01mis\u001b[39;00m \u001b[38;5;28;01mNone\u001b[39;00m:\n",
      "\u001b[0;31mCircuitError\u001b[0m: 'Number of items in qubits parameter (5) does not match number of qubits in the circuit (4).'"
     ]
    }
   ],
   "source": [
    "qc = HSA_gen (n, n_ccz, g, s, Toffoli= False, measure=False, remove_pairs_H=True)\n"
   ]
  },
  {
   "cell_type": "markdown",
   "id": "3b258c29",
   "metadata": {},
   "source": [
    "#### <span style=color:green>Circuit statistics:</span>"
   ]
  },
  {
   "cell_type": "code",
   "execution_count": 40,
   "id": "d1b89a15",
   "metadata": {},
   "outputs": [
    {
     "name": "stdout",
     "output_type": "stream",
     "text": [
      "Depth:  43\n",
      "Width (qubits):  26\n",
      "Gates:  OrderedDict([('h', 56), ('cx', 44), ('s', 38), ('t', 14)])\n",
      "Total Gates:  152\n"
     ]
    }
   ],
   "source": [
    "\n",
    "print('Depth: ',qc.depth())\n",
    "print ('Width (qubits): ', qc.num_qubits)\n",
    "g_list =  qc.count_ops()\n",
    "print ('Gates: ', g_list)\n",
    "num_g = 0\n",
    "for key,value in g_list.items():\n",
    "    num_g += value\n",
    "print ('Total Gates: ', num_g)\n",
    "    "
   ]
  },
  {
   "cell_type": "code",
   "execution_count": 41,
   "id": "4eeb2768",
   "metadata": {},
   "outputs": [],
   "source": [
    "#qc.draw ('mpl')"
   ]
  },
  {
   "cell_type": "markdown",
   "id": "e4470a77",
   "metadata": {},
   "source": [
    "#### <span style=color:green>Circuit execution!</span>\n",
    "    "
   ]
  },
  {
   "cell_type": "code",
   "execution_count": 42,
   "id": "96578c64",
   "metadata": {},
   "outputs": [],
   "source": [
    "backend = Aer.get_backend('statevector_simulator')\n",
    "\n",
    "# Launch the job\n",
    "job_sim = backend.run(qc, shots=1)\n",
    "    \n",
    "# Grab the results from the job.\n",
    "result_sim = job_sim.result()\n",
    "\n",
    "y = result_sim.get_statevector(qc, decimals=8)\n",
    "#print(y)\n",
    "  "
   ]
  },
  {
   "cell_type": "code",
   "execution_count": 43,
   "id": "99d2a997",
   "metadata": {},
   "outputs": [
    {
     "name": "stdout",
     "output_type": "stream",
     "text": [
      "\n",
      "00011000010001101011000000 : 1.00000000-0.00000000j\n"
     ]
    }
   ],
   "source": [
    "  \n",
    "print()\n",
    "# Prepare a my_statevector with all states sorted and real part only\n",
    "my_statevector = {}\n",
    "sv_dict = y.to_dict()\n",
    "#print (sv_dict)\n",
    "format_str = '{{0:0{0}b}}'.format(n)\n",
    "for i in range(2**n):\n",
    "    bin_str = format_str.format(i)\n",
    "    if bin_str in sv_dict:\n",
    "        my_statevector[bin_str] = sv_dict[bin_str]\n",
    "    else:\n",
    "        my_statevector[bin_str] = 0.\n",
    "for key in my_statevector:\n",
    "    if abs(my_statevector[key])>1.e-5:\n",
    "        print ('{0} : {1:.8f}'.format(key,my_statevector[key]))"
   ]
  },
  {
   "cell_type": "code",
   "execution_count": null,
   "id": "26646a0d",
   "metadata": {},
   "outputs": [],
   "source": [
    "print ('That\\'s all, folks')"
   ]
  },
  {
   "cell_type": "code",
   "execution_count": null,
   "id": "96fc9781",
   "metadata": {},
   "outputs": [],
   "source": []
  }
 ],
 "metadata": {
  "kernelspec": {
   "display_name": "Python 3 (ipykernel)",
   "language": "python",
   "name": "python3"
  },
  "language_info": {
   "codemirror_mode": {
    "name": "ipython",
    "version": 3
   },
   "file_extension": ".py",
   "mimetype": "text/x-python",
   "name": "python",
   "nbconvert_exporter": "python",
   "pygments_lexer": "ipython3",
   "version": "3.9.5"
  },
  "vscode": {
   "interpreter": {
    "hash": "a2ad0a4eca7f845131466efb4c005711a36ab2f67b03ae1052a913dc9560ed71"
   }
  }
 },
 "nbformat": 4,
 "nbformat_minor": 5
}
