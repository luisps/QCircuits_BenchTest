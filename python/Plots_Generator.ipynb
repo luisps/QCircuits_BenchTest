{
 "cells": [
  {
   "cell_type": "code",
   "execution_count": 1,
   "id": "a3456cc0-1b79-4c66-8ea1-8a3b100b11ae",
   "metadata": {},
   "outputs": [],
   "source": [
    "import csv\n",
    "import sys\n",
    "\n",
    "import matplotlib.pyplot as plt"
   ]
  },
  {
   "cell_type": "code",
   "execution_count": 7,
   "id": "618ed75b-2b02-41bf-8a59-d9d0da092fd3",
   "metadata": {},
   "outputs": [],
   "source": [
    "path = \"/Users/psantos/QCircuits_BenchTest/circuits/\"\n",
    "\n",
    "circuitID = \"510\"\n",
    "\n",
    "algorithms = [\"IS\",\"BD\",\"BD_MIS\"]\n",
    "\n",
    "istate = \"0\"\n",
    "\n",
    "ostate = \"0\"\n",
    "\n",
    "samples = \"26\"\n",
    "\n",
    "threads = \"8\"\n",
    "\n",
    "files = [path+circuitID+\"/circuit_\"+circuitID + \".data_stats_\" + alg + \"_\" + istate + \"_\" + ostate + \"_\" + samples + \"_\" + threads + \".csv\" for alg in algorithms]"
   ]
  },
  {
   "cell_type": "code",
   "execution_count": 8,
   "id": "8cb0d8b7-52b3-4d31-9da3-e420c9ec98d8",
   "metadata": {},
   "outputs": [],
   "source": [
    "# Read CSVs\n",
    "\n",
    "data = {}\n",
    "for ndxfile, file in enumerate(files):\n",
    "    alg = algorithms[ndxfile] \n",
    "    data[alg] = {}\n",
    "    with open(file) as csvfile:\n",
    "        csvreader = csv.reader(csvfile, delimiter=',')\n",
    "        for rowndx, row in enumerate(csvreader):\n",
    "            #print (row)\n",
    "            if rowndx==0: continue     # 1st row is header\n",
    "            elif rowndx==1:\n",
    "                true_w = complex(float(row[0]),float(row[1]))\n",
    "                data[alg][\"true_w\"] = true_w            \n",
    "            elif rowndx==2:     # 3rd row is header\n",
    "                dataTitles = [s.strip() for s in row]\n",
    "                # add 3 more attributes\n",
    "                dataTitles.append (\"variance\")\n",
    "                dataTitles.append (\"L2\")\n",
    "                dataTitles.append (\"efficiency\")\n",
    "                for title in dataTitles:\n",
    "                    data[alg][title] = [] \n",
    "            else:\n",
    "                for titlendx, title in enumerate(dataTitles):\n",
    "                    if titlendx <7:\n",
    "                        data[alg][title].append(float(row[titlendx])) \n",
    "                    elif titlendx == 7:   # variance\n",
    "                        variance = float(row[5])+float(row[6])\n",
    "                        data[alg][\"variance\"].append(variance) \n",
    "                    elif titlendx == 8:   # L2\n",
    "                        estimate_w = complex(float(row[3]),float(row[4]))\n",
    "                        L2 = abs(true_w - estimate_w)\n",
    "                        data[alg][\"L2\"].append(L2)\n",
    "                    elif titlendx == 9:   # efficiency\n",
    "                        time = (float(row[1]))\n",
    "                        if variance > 0.:\n",
    "                            efficiency = 1./(time*variance)\n",
    "                        else:\n",
    "                            efficiency = sys.float_info.max\n",
    "                        data[alg][\"efficiency\"].append(efficiency)\n",
    "    #print (dataTitles)\n",
    "    "
   ]
  },
  {
   "cell_type": "code",
   "execution_count": 9,
   "id": "596ac93f-a818-4058-be70-640c97a76db4",
   "metadata": {},
   "outputs": [],
   "source": [
    "## Plot allows specification of dependent and in dependent variables\n",
    "# choose each from\n",
    "'n_samples', 'time', 'n_paths', 'estimateR', 'estimateI', 'varianceR', 'varianceI', 'variance', 'L2', 'efficiency'\n",
    "# independent variable\n",
    "X_var = 'n_samples'\n",
    "# dependent variable\n",
    "Y_var = 'efficiency'\n",
    "\n",
    "# log X axis ?\n",
    "log_X_axis = False\n",
    "# log Y axis ?\n",
    "log_Y_axis = True\n"
   ]
  },
  {
   "cell_type": "code",
   "execution_count": 10,
   "id": "8dd373b4-bc4c-4596-acef-a43191ce4335",
   "metadata": {},
   "outputs": [
    {
     "data": {
      "image/png": "[encoded data removed]",
      "text/plain": [
       "<Figure size 640x480 with 1 Axes>"
      ]
     },
     "metadata": {},
     "output_type": "display_data"
    }
   ],
   "source": [
    "fig, ax = plt.subplots()\n",
    "\n",
    "if log_X_axis:\n",
    "    # convert x-axis to Logarithmic scale\n",
    "    plt.xscale(\"log\")\n",
    "else:\n",
    "    plt.xscale(\"linear\")\n",
    "\n",
    "\n",
    "if log_Y_axis:\n",
    "    # convert y-axis to Logarithmic scale\n",
    "    plt.yscale(\"log\")\n",
    "else:\n",
    "    plt.yscale(\"linear\")\n",
    "\n",
    "# for each algorithm\n",
    "for alg in algorithms:\n",
    "    # Data for plotting\n",
    "    X = data[alg][X_var]\n",
    "    Y = data[alg][Y_var]\n",
    "\n",
    "    ax.plot(X, Y, label = alg)\n",
    "\n",
    "ax.set(xlabel=X_var, ylabel=Y_var,\n",
    "       title='Circuit ' +  circuitID)\n",
    "ax.grid()\n",
    "ax.legend ()\n",
    "\n",
    "#fig.savefig(\"test.png\")\n",
    "plt.show()"
   ]
  },
  {
   "cell_type": "code",
   "execution_count": 6,
   "id": "e7d36493-b9af-44e6-9988-38a8431e65d7",
   "metadata": {},
   "outputs": [
    {
     "name": "stdout",
     "output_type": "stream",
     "text": [
      "That's all, folks!\n"
     ]
    }
   ],
   "source": [
    "print (\"That\\'s all, folks!\")"
   ]
  },
  {
   "cell_type": "code",
   "execution_count": null,
   "id": "7aa81b11-72c7-4257-a577-c4a9957519e1",
   "metadata": {},
   "outputs": [],
   "source": []
  }
 ],
 "metadata": {
  "kernelspec": {
   "display_name": "Python 3 (ipykernel)",
   "language": "python",
   "name": "python3"
  },
  "language_info": {
   "codemirror_mode": {
    "name": "ipython",
    "version": 3
   },
   "file_extension": ".py",
   "mimetype": "text/x-python",
   "name": "python",
   "nbconvert_exporter": "python",
   "pygments_lexer": "ipython3",
   "version": "3.12.2"
  }
 },
 "nbformat": 4,
 "nbformat_minor": 5
}
