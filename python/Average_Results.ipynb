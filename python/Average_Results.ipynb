{
 "cells": [
  {
   "cell_type": "code",
   "execution_count": null,
   "id": "c393d0b6-c3ec-4c2a-96d2-fdd874a41f31",
   "metadata": {},
   "outputs": [],
   "source": [
    "import csv\n",
    "import pathlib\n",
    "import math\n",
    "import os\n",
    "import shutil\n",
    "import sys\n"
   ]
  },
  {
   "cell_type": "code",
   "execution_count": null,
   "id": "3e897cfc-e1c5-4918-9b90-42420e807e46",
   "metadata": {},
   "outputs": [],
   "source": [
    "# set parameterers either hard coded or from the command line\n",
    "\n",
    "def type_of_script():\n",
    "    try:\n",
    "        ipy_str = str(type(get_ipython()))\n",
    "        if 'zmqshell' in ipy_str:\n",
    "            return 'jupyter'\n",
    "        if 'terminal' in ipy_str:\n",
    "            return 'ipython'\n",
    "    except:\n",
    "        return 'terminal'\n",
    "\n",
    "if type_of_script=='terminal':\n",
    "    # get arguments from command line\n",
    "    print (sys.argv[1:])\n",
    "\n",
    "    circuitID = sys.argv[1]\n",
    "    path_prefix = sys.argv[2]\n",
    "    path = path_prefix + '/' + circuitID + '/'\n",
    "    alg = sys.argv[3]\n",
    "    init_state = sys.argv[4]\n",
    "    final_state = sys.argv[5]\n",
    "    \n",
    "else:\n",
    "    # get arguments from command line\n",
    "    circuitID = '19'\n",
    "\n",
    "    #path = '~/QCircuits_BenchTest/circuits/'\n",
    "    path = '../' + circuitID + '/'\n",
    "\n",
    "    init_state = '0'\n",
    "    final_state = '0'\n",
    "\n",
    "    alg = 'IS'\n",
    "    #alg = 'BD'\n",
    "    #alg = 'BD_MIS'\n",
    "\n",
    "\n",
    "\n",
    "extension = '.csv'\n",
    "filename_prefix = 'circuit_' + circuitID + '.data_stats_' + alg + '_' + init_state + '_' + final_state\n",
    "\n",
    "filename_glob = filename_prefix + '_?' + extension \n",
    "print (filename_glob)\n",
    "\n",
    "filename_out = filename_prefix + '_average' + extension \n",
    "print (filename_out)\n",
    "\n",
    "archive_dir = filename_prefix   \n",
    "print (archive_dir)"
   ]
  },
  {
   "cell_type": "code",
   "execution_count": null,
   "id": "f9945813-df2a-45f2-be72-276b5795aa4e",
   "metadata": {},
   "outputs": [],
   "source": [
    "csv_filesname = [f for f in pathlib.Path(path).glob(filename_glob)]\n",
    "\n",
    "n_files = len(csv_filesname)\n",
    "csv_f = [''] * n_files\n",
    "csv_reader = [''] * n_files\n"
   ]
  },
  {
   "cell_type": "code",
   "execution_count": null,
   "id": "00231657-d3eb-4448-8f98-40bdc4d2d0cd",
   "metadata": {},
   "outputs": [],
   "source": [
    "\n",
    "for ndx,fname in enumerate(csv_filesname): \n",
    "    print ('Opening {0}'.format(fname))\n",
    "    try: \n",
    "        csv_f[ndx] = open(fname, 'r')\n",
    "    except OSError as error: \n",
    "        print('error %s', error) \n",
    "\n",
    "    csv_reader[ndx]  = csv.reader(csv_f[ndx] , delimiter=',')"
   ]
  },
  {
   "cell_type": "code",
   "execution_count": null,
   "id": "96a043ac-f880-4c57-82a8-c0ae06d853bd",
   "metadata": {},
   "outputs": [],
   "source": [
    "try: \n",
    "    csv_fw = open(path+filename_out, 'w')\n",
    "except OSError as error: \n",
    "    print('error %s', error) \n",
    "\n",
    "csv_writer = csv.writer (csv_fw , delimiter=',')"
   ]
  },
  {
   "cell_type": "code",
   "execution_count": null,
   "id": "04828bf5-bc81-4f53-8301-38575ab49406",
   "metadata": {},
   "outputs": [],
   "source": [
    "# REad true amplitude from the 1st csv\n",
    "row = next(csv_reader[0])\n",
    "csv_writer.writerow(row)\n",
    "row = next(csv_reader[0])\n",
    "trueR = float(row[0])\n",
    "trueI = float(row[1])\n",
    "csv_writer.writerow(row)\n",
    "print('{0} + j {1}'.format(trueR,trueI))\n",
    "# skip 3rd row\n",
    "row = next(csv_reader[0])\n",
    "row.append('var')\n",
    "row.append('L2')\n",
    "csv_writer.writerow(row)\n",
    "# skip 3 rows in all remaining csv's\n",
    "for ndx in range (1, n_files):\n",
    "    _ = next(csv_reader[ndx])\n",
    "    _ = next(csv_reader[ndx])\n",
    "    _ = next(csv_reader[ndx])\n",
    "    "
   ]
  },
  {
   "cell_type": "code",
   "execution_count": null,
   "id": "58538754-f735-498d-b0ca-09f39f2bb9d7",
   "metadata": {},
   "outputs": [],
   "source": [
    "# Read row by row on all csv\n",
    "for row in csv_reader[0]:\n",
    "    n_samples = row[0]\n",
    "    n_paths = row[1]\n",
    "    sum_estimateR = float(row[2])\n",
    "    sum_estimateI = float(row[3])\n",
    "    sum_diffR_sq = (float(row[2])-trueR)**2\n",
    "    sum_diffI_sq = (float(row[3])-trueI)**2\n",
    "    for ndx in range (1, n_files):\n",
    "        row = next(csv_reader[ndx])\n",
    "        sum_estimateR += float(row[2])\n",
    "        sum_estimateI += float(row[3])\n",
    "        diffR_sq = (float(row[2])-trueR)**2\n",
    "        diffI_sq = (float(row[3])-trueI)**2\n",
    "        sum_diffR_sq += diffR_sq\n",
    "        sum_diffI_sq += diffI_sq\n",
    "    estimateR = sum_estimateR / n_files\n",
    "    estimateI = sum_estimateI / n_files\n",
    "    L2 = math.sqrt((estimateR-trueR)**2 + (estimateI-trueI)**2)\n",
    "    varR = sum_diffR_sq / n_files\n",
    "    varI = sum_diffI_sq / n_files\n",
    "\n",
    "    csv_writer.writerow([n_samples, n_paths, estimateR, estimateI, varR, varI, varR+varI, L2])\n",
    "\n",
    "print('{0} + j {1}'.format(estimateR, estimateI))\n",
    "print('variance: {0}'.format(varR+varI))\n"
   ]
  },
  {
   "cell_type": "code",
   "execution_count": null,
   "id": "4dedd5e0-be80-4f06-a3cb-172e320101e1",
   "metadata": {},
   "outputs": [],
   "source": [
    "for fh in csv_f:\n",
    "    try: \n",
    "        fh.close()\n",
    "    except OSError as error: \n",
    "        print('error %s', error) \n",
    "\n",
    "csv_fw.close()\n"
   ]
  },
  {
   "cell_type": "code",
   "execution_count": null,
   "id": "8b90d42c-45fc-4c90-8317-63a7a52ad225",
   "metadata": {},
   "outputs": [],
   "source": [
    "# archive processed files\n",
    "try: \n",
    "    os.mkdir(archive_dir)\n",
    "except OSError as error: \n",
    "    pass\n",
    "    \n",
    "for fname in csv_filesname: \n",
    "    os.rename (fname, archive_dir)\n"
   ]
  },
  {
   "cell_type": "code",
   "execution_count": null,
   "id": "84abc4fe-1375-4de3-881f-06eb724d1fbc",
   "metadata": {},
   "outputs": [],
   "source": [
    "print ('That\\'s all , folks!')"
   ]
  },
  {
   "cell_type": "code",
   "execution_count": null,
   "id": "9896c9f3-8c57-48ae-a0a9-76c561cc02aa",
   "metadata": {},
   "outputs": [],
   "source": []
  }
 ],
 "metadata": {
  "kernelspec": {
   "display_name": "Python 3 (ipykernel)",
   "language": "python",
   "name": "python3"
  },
  "language_info": {
   "codemirror_mode": {
    "name": "ipython",
    "version": 3
   },
   "file_extension": ".py",
   "mimetype": "text/x-python",
   "name": "python",
   "nbconvert_exporter": "python",
   "pygments_lexer": "ipython3",
   "version": "3.12.2"
  }
 },
 "nbformat": 4,
 "nbformat_minor": 5
}
